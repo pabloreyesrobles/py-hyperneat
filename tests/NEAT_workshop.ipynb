{
  "nbformat": 4,
  "nbformat_minor": 0,
  "metadata": {
    "kernelspec": {
      "display_name": "Python 3",
      "language": "python",
      "name": "python3"
    },
    "language_info": {
      "codemirror_mode": {
        "name": "ipython",
        "version": 3
      },
      "file_extension": ".py",
      "mimetype": "text/x-python",
      "name": "python",
      "nbconvert_exporter": "python",
      "pygments_lexer": "ipython3",
      "version": "3.7.3"
    },
    "colab": {
      "name": "NEAT_workshop.ipynb",
      "provenance": [],
      "collapsed_sections": []
    }
  },
  "cells": [
    {
      "cell_type": "code",
      "metadata": {
        "id": "qpNHI9IYGCzm",
        "colab_type": "code",
        "colab": {
          "base_uri": "https://localhost:8080/",
          "height": 330
        },
        "outputId": "fa2c526c-5b79-477d-ee76-5dd7da72ad41"
      },
      "source": [
        "!pip install py-hyperneat"
      ],
      "execution_count": 1,
      "outputs": [
        {
          "output_type": "stream",
          "text": [
            "Collecting py-hyperneat\n",
            "  Downloading https://files.pythonhosted.org/packages/9b/b0/ce6adc934823b674bea46cc1f398b6089087828a28eff5c3a686d6dcd845/py-hyperneat-0.0.1.tar.gz\n",
            "Requirement already satisfied: numpy in /usr/local/lib/python3.6/dist-packages (from py-hyperneat) (1.17.5)\n",
            "Requirement already satisfied: dataclasses in /usr/local/lib/python3.6/dist-packages (from py-hyperneat) (0.7)\n",
            "Requirement already satisfied: matplotlib in /usr/local/lib/python3.6/dist-packages (from py-hyperneat) (3.1.3)\n",
            "Requirement already satisfied: python-dateutil>=2.1 in /usr/local/lib/python3.6/dist-packages (from matplotlib->py-hyperneat) (2.6.1)\n",
            "Requirement already satisfied: kiwisolver>=1.0.1 in /usr/local/lib/python3.6/dist-packages (from matplotlib->py-hyperneat) (1.1.0)\n",
            "Requirement already satisfied: cycler>=0.10 in /usr/local/lib/python3.6/dist-packages (from matplotlib->py-hyperneat) (0.10.0)\n",
            "Requirement already satisfied: pyparsing!=2.0.4,!=2.1.2,!=2.1.6,>=2.0.1 in /usr/local/lib/python3.6/dist-packages (from matplotlib->py-hyperneat) (2.4.6)\n",
            "Requirement already satisfied: six>=1.5 in /usr/local/lib/python3.6/dist-packages (from python-dateutil>=2.1->matplotlib->py-hyperneat) (1.12.0)\n",
            "Requirement already satisfied: setuptools in /usr/local/lib/python3.6/dist-packages (from kiwisolver>=1.0.1->matplotlib->py-hyperneat) (45.1.0)\n",
            "Building wheels for collected packages: py-hyperneat\n",
            "  Building wheel for py-hyperneat (setup.py) ... \u001b[?25l\u001b[?25hdone\n",
            "  Created wheel for py-hyperneat: filename=py_hyperneat-0.0.1-cp36-none-any.whl size=13072 sha256=ce92038228c10f0d8f62af43eb66958deb7864b8450811ff5e9c65edc4f3e506\n",
            "  Stored in directory: /root/.cache/pip/wheels/62/30/95/08e96f8c28086ca08e3fd240e55b57ac1f0d98eb21bf56685c\n",
            "Successfully built py-hyperneat\n",
            "Installing collected packages: py-hyperneat\n",
            "Successfully installed py-hyperneat-0.0.1\n"
          ],
          "name": "stdout"
        }
      ]
    },
    {
      "cell_type": "markdown",
      "metadata": {
        "id": "QPSlEOpfk2EG",
        "colab_type": "text"
      },
      "source": [
        "# NEAT Genotype and phenotype expression\n",
        "![alt text](https://i.imgur.com/Xtlzo8G.png)\n"
      ]
    },
    {
      "cell_type": "code",
      "metadata": {
        "id": "QG5TilbxGCzz",
        "colab_type": "code",
        "colab": {}
      },
      "source": [
        "from neat.population import Population\n",
        "from neat.neural_network import NeuralNetwork\n",
        "from neat.genome import Genome, Phenotype\n",
        "from neat.genes import NodeGene, ConnectionGene, NodeType\n",
        "from neat.neat import Neat, TrainTask\n",
        "from neat.activation_functions import ActivationFunction\n",
        "\n",
        "import numpy as np\n",
        "import matplotlib.pyplot as plt\n",
        "import math"
      ],
      "execution_count": 0,
      "outputs": []
    },
    {
      "cell_type": "code",
      "metadata": {
        "id": "QczsRDIkGCz-",
        "colab_type": "code",
        "colab": {}
      },
      "source": [
        "# Select tanh function to initialize activations\n",
        "tanh_function = ActivationFunction().functions['TANH']\n",
        "\n",
        "# 10 layers\n",
        "num_layers = 10\n",
        "\n",
        "# Node genes\n",
        "input_node_0 = NodeGene(0, NodeType.INPUT, tanh_function, 0)\n",
        "input_node_1 = NodeGene(1, NodeType.INPUT, tanh_function, 0)\n",
        "output_node = NodeGene(2, NodeType.OUTPUT, tanh_function, num_layers - 1)\n",
        "\n",
        "nodes = [input_node_0, input_node_1, output_node]"
      ],
      "execution_count": 0,
      "outputs": []
    },
    {
      "cell_type": "code",
      "metadata": {
        "id": "HvAGpFGrGC0E",
        "colab_type": "code",
        "colab": {}
      },
      "source": [
        "# Connection genes: innovation, in node, out node, weight, enable?, in node layer, out node layer\n",
        "connection_0 = ConnectionGene(0, input_node_0.gene_id, output_node.gene_id, 0.1, True, input_node_0.layer, output_node.layer)\n",
        "connection_1 = ConnectionGene(1, input_node_1.gene_id, output_node.gene_id, 0.2, True, input_node_1.layer, output_node.layer)\n",
        "\n",
        "connections = [connection_0, connection_1]"
      ],
      "execution_count": 0,
      "outputs": []
    },
    {
      "cell_type": "code",
      "metadata": {
        "id": "gbKOGfeeGC0K",
        "colab_type": "code",
        "colab": {}
      },
      "source": [
        "# Create seed genome, specify connections weight range\n",
        "weights_range = (-8.0, 8.0)\n",
        "genome = Genome(weights_range)\n",
        "\n",
        "# Assemble genome from nodes and connections info. \n",
        "# Need to specify the type of phenotype to construct and number of layers\n",
        "genome.create_genome_from_genes(nodes, connections, Phenotype.LAYERED_NETWORK, num_layers)"
      ],
      "execution_count": 0,
      "outputs": []
    },
    {
      "cell_type": "code",
      "metadata": {
        "id": "FVZQgEVRGC0R",
        "colab_type": "code",
        "colab": {}
      },
      "source": [
        "# Create new population\n",
        "pop = Population()\n",
        "\n",
        "# Set hyperparameters of evolution\n",
        "pop.params.population_max = 100\n",
        "pop.params.distance_coeff_1 = 0.6\n",
        "pop.params.distance_coeff_2 = 0.6\n",
        "pop.params.distance_coeff_3 = 0.06\n",
        "pop.params.distance_threshold = 9.0 #Adjusted while training\n",
        "pop.params.small_genome_coeff = 8\n",
        "pop.params.no_crossover_offspring = 0.85\n",
        "\n",
        "pop.params.survival_selection = True\n",
        "pop.params.allow_clones = True\n",
        "pop.params.survival_threshold = 0.4\n",
        "pop.params.elite_offspring_param = 0.1\n",
        "\n",
        "pop.params.min_species = 4\n",
        "pop.params.max_species = 10\n",
        "\n",
        "# Set probabilities of interspecies mating and mutations\n",
        "# Interspecies probability of mate\n",
        "pop.prob.interspecies_mating = 0.2\n",
        "\n",
        "# Small organisms mutation probabilities\n",
        "pop.prob.sp_new_node = 0.001\n",
        "pop.prob.sp_new_connection = 0.002\n",
        "\n",
        "# Large organisms mutation probabilities\n",
        "pop.prob.lp_new_node = 0.0003\n",
        "pop.prob.lp_new_connection = 0.0004\n",
        "\n",
        "# Mutation weights and activation probabilities\n",
        "pop.prob.mutation_weight = 0.1\n",
        "pop.prob.mutate_activation = 0.05\n",
        "\n",
        "# Create population of organisms from the seed genome\n",
        "pop.start_population(genome)"
      ],
      "execution_count": 0,
      "outputs": []
    },
    {
      "cell_type": "code",
      "metadata": {
        "id": "cXoifckXGC0W",
        "colab_type": "code",
        "colab": {}
      },
      "source": [
        "# Define a fitness function.\n",
        "# Current function intend to solve XOR problem, given the four possible inputs\n",
        "def fitness(input_data, net):\n",
        "    error = 0.0\n",
        "    outputs = []\n",
        "\n",
        "    logic = input_data[0]\n",
        "    net.reset_values()\n",
        "    net.input(logic)\n",
        "    net.activate_net()\n",
        "    error += math.fabs(net.output()[0])\n",
        "    outputs.append(net.output()[0])\n",
        "\n",
        "    logic = input_data[1]\n",
        "    net.reset_values()\n",
        "    net.input(logic)\n",
        "    net.activate_net()\n",
        "    error += math.fabs(1 - net.output()[0])\n",
        "    outputs.append(net.output()[0])\n",
        "\n",
        "    logic = input_data[2]\n",
        "    net.reset_values()\n",
        "    net.input(logic)\n",
        "    net.activate_net()\n",
        "    error += math.fabs(1 - net.output()[0])\n",
        "    outputs.append(net.output()[0])\n",
        "\n",
        "    logic = input_data[3]\n",
        "    net.input(logic)\n",
        "    net.activate_net()\n",
        "    error += math.fabs(net.output()[0])\n",
        "    outputs.append(net.output()[0])\n",
        "\n",
        "    return math.pow(4 - error, 2)"
      ],
      "execution_count": 0,
      "outputs": []
    },
    {
      "cell_type": "code",
      "metadata": {
        "id": "_3G-gjIUGC0b",
        "colab_type": "code",
        "colab": {}
      },
      "source": [
        "# Create an instance of Neat algorithm, 100 generations\n",
        "num_generations = 100\n",
        "evolution = Neat(fitness_eval=fitness, train_task=TrainTask.PREDICTION, max_generation=num_generations)\n",
        "\n",
        "# Set population to evolutionary algorithm. Limit activation functions to tanh for this example\n",
        "evolution.pop = pop\n",
        "evolution.pop.activation_set.use_only_tanh()"
      ],
      "execution_count": 0,
      "outputs": []
    },
    {
      "cell_type": "code",
      "metadata": {
        "scrolled": true,
        "id": "9GOKyYwtGC0h",
        "colab_type": "code",
        "colab": {
          "base_uri": "https://localhost:8080/",
          "height": 104
        },
        "outputId": "2e4b3847-9917-46f7-9d27-0cc8baf7f453"
      },
      "source": [
        "# Define input sets to fit with fitness function\n",
        "xor_eval = [[0, 0], [0, 1], [1, 0], [1, 1]]\n",
        "\n",
        "# Run training\n",
        "evolution.set_multi_input(xor_eval)\n",
        "avg, best = evolution.run_multiple_trainings(5)"
      ],
      "execution_count": 9,
      "outputs": [
        {
          "output_type": "stream",
          "text": [
            "Iteration #0: species = 6, champion_fitness = 15.941865, avg_generation_fitness = 8.259464\n",
            "Iteration #1: species = 8, champion_fitness = 15.684336, avg_generation_fitness = 8.083922\n",
            "Iteration #2: species = 7, champion_fitness = 15.848229, avg_generation_fitness = 8.118714\n",
            "Iteration #3: species = 4, champion_fitness = 15.770745, avg_generation_fitness = 8.031041\n",
            "Iteration #4: species = 6, champion_fitness = 15.951838, avg_generation_fitness = 7.916029\n"
          ],
          "name": "stdout"
        }
      ]
    },
    {
      "cell_type": "code",
      "metadata": {
        "id": "tTWkFSXwGC0l",
        "colab_type": "code",
        "colab": {
          "base_uri": "https://localhost:8080/",
          "height": 392
        },
        "outputId": "a4b58898-ce9c-4c43-f2dd-6d82f0a0169f"
      },
      "source": [
        "generations = np.linspace(0, 99, 100)\n",
        "\n",
        "fig, ax = plt.subplots(figsize=(10, 6))\n",
        "\n",
        "ax.plot(generations, avg, label='Average fitness')\n",
        "ax.plot(generations, best, label='Best fitness') # primer gráfico (primera sub-figura)\n",
        "ax.set_ylabel('Fitness')\n",
        "ax.set_xlabel('Generations')\n",
        "ax.set_ylim(0, 18)\n",
        "leg = ax.legend();"
      ],
      "execution_count": 10,
      "outputs": [
        {
          "output_type": "display_data",
          "data": {
            "image/png": "[encoded data removed]",
            "text/plain": [
              "<Figure size 720x432 with 1 Axes>"
            ]
          },
          "metadata": {
            "tags": []
          }
        }
      ]
    },
    {
      "cell_type": "code",
      "metadata": {
        "id": "WqhFrpZTGC0r",
        "colab_type": "code",
        "colab": {
          "base_uri": "https://localhost:8080/",
          "height": 104
        },
        "outputId": "ad8d346f-4a7c-436c-fca9-993f5fb92910"
      },
      "source": [
        "# Let's change activation functions set\n",
        "evolution.pop.activation_set = ActivationFunction()\n",
        "evolution.pop.activation_set.set_atemporal_set()\n",
        "evolution.pop.activation_set.unset_lin_group()\n",
        "\n",
        "# Run training\n",
        "evolution.pop.restart_population()\n",
        "avg, best = evolution.run_multiple_trainings(5)"
      ],
      "execution_count": 11,
      "outputs": [
        {
          "output_type": "stream",
          "text": [
            "Iteration #0: species = 6, champion_fitness = 16.000000, avg_generation_fitness = 7.195489\n",
            "Iteration #1: species = 10, champion_fitness = 16.000000, avg_generation_fitness = 8.614111\n",
            "Iteration #2: species = 9, champion_fitness = 16.000000, avg_generation_fitness = 9.441602\n",
            "Iteration #3: species = 6, champion_fitness = 16.000000, avg_generation_fitness = 9.956438\n",
            "Iteration #4: species = 10, champion_fitness = 16.000000, avg_generation_fitness = 7.783131\n"
          ],
          "name": "stdout"
        }
      ]
    },
    {
      "cell_type": "code",
      "metadata": {
        "id": "FLWhizzvGC0x",
        "colab_type": "code",
        "colab": {
          "base_uri": "https://localhost:8080/",
          "height": 392
        },
        "outputId": "1115c7c3-7a51-4312-f092-41ce148db4b6"
      },
      "source": [
        "generations = np.linspace(0, 99, 100)\n",
        "\n",
        "fig, ax = plt.subplots(figsize=(10, 6))\n",
        "\n",
        "ax.plot(generations, avg, label='Average fitness')\n",
        "ax.plot(generations, best, label='Best fitness') # primer gráfico (primera sub-figura)\n",
        "ax.set_ylabel('Fitness')\n",
        "ax.set_xlabel('Generations')\n",
        "ax.set_ylim(0, 18)\n",
        "leg = ax.legend();"
      ],
      "execution_count": 12,
      "outputs": [
        {
          "output_type": "display_data",
          "data": {
            "image/png": "[encoded data removed]",
            "text/plain": [
              "<Figure size 720x432 with 1 Axes>"
            ]
          },
          "metadata": {
            "tags": []
          }
        }
      ]
    },
    {
      "cell_type": "code",
      "metadata": {
        "id": "zRbAPzlBGC02",
        "colab_type": "code",
        "colab": {}
      },
      "source": [
        "champion_connections = evolution.pop.champion_genome.export_genome()['GeneticEncoding']['connections']\n",
        "champion_nodes = evolution.pop.champion_genome.export_genome()['GeneticEncoding']['nodes']\n",
        "\n",
        "# Champion genome can be saved to champion.json by calling save_genome() method\n",
        "# Let's see how many nodes result\n",
        "print('Nodes {:d}, Connections {:d}'.format(len(champion_nodes), len(champion_connections)))"
      ],
      "execution_count": 0,
      "outputs": []
    },
    {
      "cell_type": "code",
      "metadata": {
        "id": "DcoiFiCemJhu",
        "colab_type": "code",
        "colab": {}
      },
      "source": [
        "node_types = {0: 'INPUT', 1: 'HIDDEN', 2: 'OUTPUT'}\n",
        "\n",
        "def node_printer(nodes):\n",
        "    for node in nodes:\n",
        "        print('Node id {:d}, layer {:d}, type {:s}, activation {:s}'.format(node['nodeID'], \n",
        "                                                                            node['row'],\n",
        "                                                                            node_types[node['type']],\n",
        "                                                                            node['function']))\n",
        "def connection_printer(connections):\n",
        "    for connection in connections:\n",
        "        print('Connection innovation {:d}, in_id {:d}, out_id {:d}, weigh {:f}, enable {:b}'.format(connection['innovation'],\n",
        "                                                                                                    connection['in'],\n",
        "                                                                                                    connection['out'],\n",
        "                                                                                                    connection['weight'],\n",
        "                                                                                                    connection['enable']))"
      ],
      "execution_count": 0,
      "outputs": []
    },
    {
      "cell_type": "code",
      "metadata": {
        "id": "51sx7v_omMRa",
        "colab_type": "code",
        "colab": {}
      },
      "source": [
        "# Print champion nodes\n",
        "node_printer(champion_nodes)"
      ],
      "execution_count": 0,
      "outputs": []
    },
    {
      "cell_type": "code",
      "metadata": {
        "id": "GgvdehO3mM2d",
        "colab_type": "code",
        "colab": {}
      },
      "source": [
        "# Print champion connections\n",
        "connection_printer(champion_connections)"
      ],
      "execution_count": 0,
      "outputs": []
    },
    {
      "cell_type": "markdown",
      "metadata": {
        "id": "cI2L_KVRmva4",
        "colab_type": "text"
      },
      "source": [
        "#CPPN: Compositional Pattern Producing Network\n",
        "Mixed activation functions produce different connectivity patterns from a node to a target space. Using NEAT as learning algorithm diverse patterns can be obtained in evolution\n",
        "\n",
        "![alt text](https://i.imgur.com/bNYVnCC.png)"
      ]
    },
    {
      "cell_type": "markdown",
      "metadata": {
        "id": "poBEiIGBmQk0",
        "colab_type": "text"
      },
      "source": [
        "#HyperNEAT and ES-HyperNEAT\n",
        "Connection mapping in a 2D substrate using NEAT\n",
        "\n",
        "![alt text](https://i.imgur.com/hfKTMPx.png)\n",
        "\n",
        "2D layers can be connected between them. In a feed-forward approach connection mapping can be generated as\n",
        "![alt text](https://i.imgur.com/B13GNVt.png)\n",
        "\n",
        "ES-HyperNEAT does not declare any nodes position in the hidden layers, the algorithm search for relevant activations from an input node across the target space.\n",
        "\n",
        "![alt text](https://i.imgur.com/p62nCoY.png)"
      ]
    },
    {
      "cell_type": "markdown",
      "metadata": {
        "id": "iAXHkxXVp8zq",
        "colab_type": "text"
      },
      "source": [
        "#HyperNEAT learning gaits"
      ]
    },
    {
      "cell_type": "code",
      "metadata": {
        "id": "-o70PN4EoZmh",
        "colab_type": "code",
        "colab": {
          "base_uri": "https://localhost:8080/",
          "height": 336
        },
        "outputId": "c7e63f8c-c3f7-4cb7-bb8b-74f2aa6804b1"
      },
      "source": [
        "from IPython.display import HTML\n",
        "\n",
        "# Youtube\n",
        "HTML('<iframe width=\"560\" height=\"315\" src=\"https://www.youtube.com/embed/QyVUIM5fVLA?rel=0&amp;controls=0&amp;showinfo=0\" frameborder=\"0\" allowfullscreen></iframe>')"
      ],
      "execution_count": 20,
      "outputs": [
        {
          "output_type": "execute_result",
          "data": {
            "text/html": [
              "<iframe width=\"560\" height=\"315\" src=\"https://www.youtube.com/embed/QyVUIM5fVLA?rel=0&amp;controls=0&amp;showinfo=0\" frameborder=\"0\" allowfullscreen></iframe>"
            ],
            "text/plain": [
              "<IPython.core.display.HTML object>"
            ]
          },
          "metadata": {
            "tags": []
          },
          "execution_count": 20
        }
      ]
    },
    {
      "cell_type": "code",
      "metadata": {
        "id": "ml1nPsgjp5Sa",
        "colab_type": "code",
        "colab": {
          "base_uri": "https://localhost:8080/",
          "height": 336
        },
        "outputId": "4ff6b587-d949-4929-c8c4-d32c9fe60205"
      },
      "source": [
        "HTML('<iframe width=\"560\" height=\"315\" src=\"https://www.youtube.com/embed/uvqSYnoox4s?rel=0&amp;controls=0&amp;showinfo=0\" frameborder=\"0\" allowfullscreen></iframe>')"
      ],
      "execution_count": 21,
      "outputs": [
        {
          "output_type": "execute_result",
          "data": {
            "text/html": [
              "<iframe width=\"560\" height=\"315\" src=\"https://www.youtube.com/embed/uvqSYnoox4s?rel=0&amp;controls=0&amp;showinfo=0\" frameborder=\"0\" allowfullscreen></iframe>"
            ],
            "text/plain": [
              "<IPython.core.display.HTML object>"
            ]
          },
          "metadata": {
            "tags": []
          },
          "execution_count": 21
        }
      ]
    },
    {
      "cell_type": "markdown",
      "metadata": {
        "id": "Z58v-tY1qBT3",
        "colab_type": "text"
      },
      "source": [
        "#ES-HyperNEAT learning gaits"
      ]
    },
    {
      "cell_type": "code",
      "metadata": {
        "colab_type": "code",
        "outputId": "4875ca7d-b65f-4331-dd5b-18b49d59620c",
        "id": "dJdQI3Mgpf9E",
        "colab": {
          "base_uri": "https://localhost:8080/",
          "height": 336
        }
      },
      "source": [
        "HTML('<iframe width=\"560\" height=\"315\" src=\"https://www.youtube.com/embed/fEHyarE8SXM?rel=0&amp;controls=0&amp;showinfo=0\" frameborder=\"0\" allowfullscreen></iframe>')"
      ],
      "execution_count": 18,
      "outputs": [
        {
          "output_type": "execute_result",
          "data": {
            "text/html": [
              "<iframe width=\"560\" height=\"315\" src=\"https://www.youtube.com/embed/fEHyarE8SXM?rel=0&amp;controls=0&amp;showinfo=0\" frameborder=\"0\" allowfullscreen></iframe>"
            ],
            "text/plain": [
              "<IPython.core.display.HTML object>"
            ]
          },
          "metadata": {
            "tags": []
          },
          "execution_count": 18
        }
      ]
    },
    {
      "cell_type": "code",
      "metadata": {
        "id": "VBHavCDqqEnu",
        "colab_type": "code",
        "colab": {
          "base_uri": "https://localhost:8080/",
          "height": 336
        },
        "outputId": "5cc35282-ccdc-438b-e6a3-773aa257cf48"
      },
      "source": [
        "HTML('<iframe width=\"560\" height=\"315\" src=\"https://www.youtube.com/embed/aYHlDjhvi7A?rel=0&amp;controls=0&amp;showinfo=0\" frameborder=\"0\" allowfullscreen></iframe>')"
      ],
      "execution_count": 22,
      "outputs": [
        {
          "output_type": "execute_result",
          "data": {
            "text/html": [
              "<iframe width=\"560\" height=\"315\" src=\"https://www.youtube.com/embed/aYHlDjhvi7A?rel=0&amp;controls=0&amp;showinfo=0\" frameborder=\"0\" allowfullscreen></iframe>"
            ],
            "text/plain": [
              "<IPython.core.display.HTML object>"
            ]
          },
          "metadata": {
            "tags": []
          },
          "execution_count": 22
        }
      ]
    },
    {
      "cell_type": "markdown",
      "metadata": {
        "id": "_7X7PtMWr2zl",
        "colab_type": "text"
      },
      "source": [
        "P. Reyes and M. Escobar, \"Neuroevolutive Algorithms for Learning Gaits in Legged Robots,\" in IEEE Access, vol. 7, pp. 142406-142420, 2019."
      ]
    }
  ]
}