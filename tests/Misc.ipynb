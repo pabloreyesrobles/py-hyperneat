{
 "cells": [
  {
   "cell_type": "code",
   "execution_count": 1,
   "metadata": {},
   "outputs": [],
   "source": [
    "import numpy as np"
   ]
  },
  {
   "cell_type": "code",
   "execution_count": 14,
   "metadata": {},
   "outputs": [
    {
     "name": "stdout",
     "output_type": "stream",
     "text": [
      "[<object object at 0x7f51780c7b80>, <object object at 0x7f51780c7b90>] [<object object at 0x7f51780c7b80>] []\n",
      "[<object object at 0x7f51780c7b80>] [<object object at 0x7f51780c7b80>] [<object object at 0x7f51780c7b90>]\n",
      "[] [<object object at 0x7f51780c7b80>] [<object object at 0x7f51780c7b90>, <object object at 0x7f51780c7b80>]\n",
      "[<object object at 0x7f51780c7b90>, <object object at 0x7f51780c7b80>] [<object object at 0x7f51780c7b80>] [<object object at 0x7f51780c7b90>, <object object at 0x7f51780c7b80>]\n"
     ]
    }
   ],
   "source": [
    "a = [object(), object()]\n",
    "b = []\n",
    "c = []\n",
    "\n",
    "b.append(a[0])\n",
    "print(a, b, c)\n",
    "c.append(a.pop())\n",
    "print(a, b, c)\n",
    "c.append(a.pop())\n",
    "print(a, b, c)\n",
    "a = c\n",
    "print(a, b, c)"
   ]
  },
  {
   "cell_type": "code",
   "execution_count": 16,
   "metadata": {},
   "outputs": [
    {
     "name": "stdout",
     "output_type": "stream",
     "text": [
      "[<object object at 0x7f51780c7630>, <object object at 0x7f51780c7620>, <object object at 0x7f51780c75b0>]\n",
      "[<object object at 0x7f51780c7630>, <object object at 0x7f51780c75b0>]\n"
     ]
    }
   ],
   "source": [
    "a = [object(), object(), object()]\n",
    "\n",
    "print(a)\n",
    "a.pop(1)\n",
    "print(a)"
   ]
  },
  {
   "cell_type": "code",
   "execution_count": 17,
   "metadata": {},
   "outputs": [
    {
     "name": "stdout",
     "output_type": "stream",
     "text": [
      "[<object object at 0x7f51780c7360>, <object object at 0x7f51780c7580>, <object object at 0x7f51780c7590>]\n",
      "<object object at 0x7f51780c7360>\n",
      "[<object object at 0x7f51780c7580>, <object object at 0x7f51780c7590>]\n",
      "<object object at 0x7f51780c7580>\n",
      "[<object object at 0x7f51780c7590>]\n",
      "<object object at 0x7f51780c7590>\n"
     ]
    }
   ],
   "source": [
    "a = [object(), object(), object()]\n",
    "\n",
    "while a:\n",
    "    print(a)\n",
    "    print(a.pop(0))"
   ]
  },
  {
   "cell_type": "code",
   "execution_count": 25,
   "metadata": {},
   "outputs": [
    {
     "name": "stdout",
     "output_type": "stream",
     "text": [
      "(0, <object object at 0x7f51780c7aa0>)\n",
      "(5, <object object at 0x7f51780c7760>)\n",
      "(32, <object object at 0x7f51780c76d0>)\n"
     ]
    }
   ],
   "source": [
    "a = {0: object(), 5: object(), 32: object()}\n",
    "for item in a.items():\n",
    "    print(item)"
   ]
  },
  {
   "cell_type": "code",
   "execution_count": 31,
   "metadata": {},
   "outputs": [
    {
     "data": {
      "text/plain": [
       "[2, 1]"
      ]
     },
     "execution_count": 31,
     "metadata": {},
     "output_type": "execute_result"
    }
   ],
   "source": [
    "a = []\n",
    "a.append([1, 2])\n",
    "a.append([2, 5])\n",
    "a.append([2, 1])\n",
    "min(a, key=lambda x: x[1])"
   ]
  },
  {
   "cell_type": "code",
   "execution_count": 33,
   "metadata": {},
   "outputs": [
    {
     "data": {
      "text/plain": [
       "3"
      ]
     },
     "execution_count": 33,
     "metadata": {},
     "output_type": "execute_result"
    }
   ],
   "source": [
    "a = [1, 2, 3]\n",
    "a[-1]"
   ]
  }
 ],
 "metadata": {
  "kernelspec": {
   "display_name": "Python 3",
   "language": "python",
   "name": "python3"
  },
  "language_info": {
   "codemirror_mode": {
    "name": "ipython",
    "version": 3
   },
   "file_extension": ".py",
   "mimetype": "text/x-python",
   "name": "python",
   "nbconvert_exporter": "python",
   "pygments_lexer": "ipython3",
   "version": "3.7.8"
  }
 },
 "nbformat": 4,
 "nbformat_minor": 4
}
