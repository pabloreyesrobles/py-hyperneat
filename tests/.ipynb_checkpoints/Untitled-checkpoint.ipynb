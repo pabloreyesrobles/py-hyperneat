{
 "cells": [
  {
   "cell_type": "code",
   "execution_count": null,
   "metadata": {},
   "outputs": [],
   "source": [
    "!pip install py-hyperneat"
   ]
  },
  {
   "cell_type": "code",
   "execution_count": 3,
   "metadata": {},
   "outputs": [],
   "source": [
    "from neat.population import Population\n",
    "from neat.neural_network import NeuralNetwork\n",
    "from neat.genome import Genome, Phenotype\n",
    "from neat.genes import NodeGene, ConnectionGene, NodeType\n",
    "from neat.neat import Neat, TrainTask\n",
    "from neat.activation_functions import ActivationFunction\n",
    "\n",
    "import numpy as np\n",
    "import matplotlib.pyplot as plt"
   ]
  },
  {
   "cell_type": "code",
   "execution_count": 4,
   "metadata": {},
   "outputs": [],
   "source": [
    "# Select tanh function to initialize activations\n",
    "tanh_function = ActivationFunction().functions['TANH']\n",
    "\n",
    "# 10 layers\n",
    "num_layers = 10\n",
    "\n",
    "# Node genes\n",
    "input_node_0 = NodeGene(0, NodeType.INPUT, tanh_function, 0)\n",
    "input_node_1 = NodeGene(1, NodeType.INPUT, tanh_function, 0)\n",
    "output_node = NodeGene(2, NodeType.OUTPUT, tanh_function, num_layers - 1)\n",
    "\n",
    "nodes = [input_node_0, input_node_1, output_node]"
   ]
  },
  {
   "cell_type": "code",
   "execution_count": 5,
   "metadata": {},
   "outputs": [],
   "source": [
    "# Connection genes: innovation, in node, out node, weight, enable?, in node layer, out node layer\n",
    "connection_0 = ConnectionGene(0, input_node_0.gene_id, output_node.gene_id, 0.1, True, input_node_0.layer, output_node.layer)\n",
    "connection_1 = ConnectionGene(1, input_node_1.gene_id, output_node.gene_id, 0.2, True, input_node_1.layer, output_node.layer)\n",
    "\n",
    "connections = [connection_0, connection_1]"
   ]
  },
  {
   "cell_type": "code",
   "execution_count": 6,
   "metadata": {},
   "outputs": [],
   "source": [
    "# Create seed genome, specify connections weight range\n",
    "weights_range = (-8.0, 8.0)\n",
    "genome = Genome(weights_range)\n",
    "\n",
    "# Assemble genome from nodes and connections info. \n",
    "# Need to specify the type of phenotype to construct and number of layers\n",
    "genome.create_genome_from_genes(nodes, connections, Phenotype.LAYERED_NETWORK, num_layers)"
   ]
  },
  {
   "cell_type": "code",
   "execution_count": 7,
   "metadata": {},
   "outputs": [],
   "source": [
    "# Create new population\n",
    "pop = Population()\n",
    "\n",
    "# Set hyperparameters of evolution\n",
    "pop.params.population_max = 100\n",
    "pop.params.distance_coeff_1 = 0.6\n",
    "pop.params.distance_coeff_2 = 0.6\n",
    "pop.params.distance_coeff_3 = 0.06\n",
    "pop.params.distance_threshold = 9.0 #Adjusted while training\n",
    "pop.params.small_genome_coeff = 8\n",
    "pop.params.no_crossover_offspring = 0.85\n",
    "\n",
    "pop.params.survival_selection = True\n",
    "pop.params.allow_clones = True\n",
    "pop.params.survival_threshold = 0.4\n",
    "pop.params.elite_offspring_param = 0.1\n",
    "\n",
    "pop.params.min_species = 4\n",
    "pop.params.max_species = 10\n",
    "\n",
    "# Set probabilities of interspecies mating and mutations\n",
    "# Interspecies probability of mate\n",
    "pop.prob.interspecies_mating = 0.2\n",
    "\n",
    "# Small organisms mutation probabilities\n",
    "pop.prob.sp_new_node = 0.001\n",
    "pop.prob.sp_new_connection = 0.002\n",
    "\n",
    "# Large organisms mutation probabilities\n",
    "pop.prob.lp_new_node = 0.0003\n",
    "pop.prob.lp_new_connection = 0.0004\n",
    "\n",
    "# Mutation weights and activation probabilities\n",
    "pop.prob.mutation_weight = 0.1\n",
    "pop.prob.mutate_activation = 0.05\n",
    "\n",
    "# Create population of organisms from the seed genome\n",
    "pop.start_population(genome)"
   ]
  },
  {
   "cell_type": "code",
   "execution_count": 9,
   "metadata": {},
   "outputs": [],
   "source": [
    "# Define a fitness function.\n",
    "# Current function intend to solve XOR problem, given the four possible inputs\n",
    "def fitness(input_data, net):\n",
    "    error = 0.0\n",
    "    outputs = []\n",
    "\n",
    "    logic = input_data[0]\n",
    "    net.reset_values()\n",
    "    net.input(logic)\n",
    "    net.activate_net()\n",
    "    error += math.fabs(net.output()[0])\n",
    "    outputs.append(net.output()[0])\n",
    "\n",
    "    logic = input_data[1]\n",
    "    net.reset_values()\n",
    "    net.input(logic)\n",
    "    net.activate_net()\n",
    "    error += math.fabs(1 - net.output()[0])\n",
    "    outputs.append(net.output()[0])\n",
    "\n",
    "    logic = input_data[2]\n",
    "    net.reset_values()\n",
    "    net.input(logic)\n",
    "    net.activate_net()\n",
    "    error += math.fabs(1 - net.output()[0])\n",
    "    outputs.append(net.output()[0])\n",
    "\n",
    "    logic = input_data[3]\n",
    "    net.input(logic)\n",
    "    net.activate_net()\n",
    "    error += math.fabs(net.output()[0])\n",
    "    outputs.append(net.output()[0])\n",
    "\n",
    "    return math.pow(4 - error, 2)"
   ]
  },
  {
   "cell_type": "code",
   "execution_count": 10,
   "metadata": {},
   "outputs": [],
   "source": [
    "# Create an instance of Neat algorithm, 100 generations\n",
    "num_generations = 100\n",
    "evolution = Neat(fitness_eval=fitness, train_task=TrainTask.PREDICTION, max_generation=num_generations)\n",
    "\n",
    "# Set population to evolutionary algorithm. Limit activation functions to tanh for this example\n",
    "evolution.pop = pop\n",
    "evolution.pop.activation_set.use_only_tanh()"
   ]
  },
  {
   "cell_type": "code",
   "execution_count": 11,
   "metadata": {
    "scrolled": true
   },
   "outputs": [
    {
     "name": "stdout",
     "output_type": "stream",
     "text": [
      "Generation #0: species = 1, champion_fitness = 6.469567, avg_generation_fitness = 2.806776\n",
      "Generation #1: species = 1, champion_fitness = 8.604214, avg_generation_fitness = 3.565405\n",
      "Generation #2: species = 1, champion_fitness = 8.622006, avg_generation_fitness = 4.542124\n",
      "Generation #3: species = 1, champion_fitness = 8.816316, avg_generation_fitness = 5.163574\n",
      "Generation #4: species = 1, champion_fitness = 8.962952, avg_generation_fitness = 6.449841\n",
      "Generation #5: species = 1, champion_fitness = 8.995030, avg_generation_fitness = 6.906886\n",
      "Generation #6: species = 1, champion_fitness = 10.083368, avg_generation_fitness = 7.237193\n",
      "Generation #7: species = 1, champion_fitness = 10.083368, avg_generation_fitness = 8.161533\n",
      "Generation #8: species = 1, champion_fitness = 14.385688, avg_generation_fitness = 7.474459\n",
      "Generation #9: species = 1, champion_fitness = 14.385688, avg_generation_fitness = 7.859943\n",
      "Generation #10: species = 1, champion_fitness = 14.385688, avg_generation_fitness = 8.807838\n",
      "Generation #11: species = 1, champion_fitness = 14.385688, avg_generation_fitness = 7.827031\n",
      "Generation #12: species = 1, champion_fitness = 14.385688, avg_generation_fitness = 8.079588\n",
      "Generation #13: species = 1, champion_fitness = 14.385688, avg_generation_fitness = 6.565412\n",
      "Generation #14: species = 1, champion_fitness = 14.386015, avg_generation_fitness = 8.204202\n",
      "Generation #15: species = 1, champion_fitness = 14.386015, avg_generation_fitness = 7.536729\n",
      "Generation #16: species = 1, champion_fitness = 14.386015, avg_generation_fitness = 8.439470\n",
      "Generation #17: species = 1, champion_fitness = 14.386015, avg_generation_fitness = 8.085410\n",
      "Generation #18: species = 1, champion_fitness = 14.386015, avg_generation_fitness = 7.931262\n",
      "Generation #19: species = 1, champion_fitness = 14.881067, avg_generation_fitness = 8.189610\n",
      "Generation #20: species = 1, champion_fitness = 14.881067, avg_generation_fitness = 8.127166\n",
      "Generation #21: species = 1, champion_fitness = 15.042684, avg_generation_fitness = 7.802739\n",
      "Generation #22: species = 1, champion_fitness = 15.042684, avg_generation_fitness = 7.978608\n",
      "Generation #23: species = 1, champion_fitness = 15.042684, avg_generation_fitness = 8.620272\n",
      "Generation #24: species = 1, champion_fitness = 15.232835, avg_generation_fitness = 8.825421\n",
      "Generation #25: species = 1, champion_fitness = 15.232835, avg_generation_fitness = 8.490225\n",
      "Generation #26: species = 1, champion_fitness = 15.232835, avg_generation_fitness = 8.447524\n",
      "Generation #27: species = 1, champion_fitness = 15.232835, avg_generation_fitness = 8.896757\n",
      "Generation #28: species = 1, champion_fitness = 15.327888, avg_generation_fitness = 8.224812\n",
      "Generation #29: species = 1, champion_fitness = 15.327888, avg_generation_fitness = 7.953099\n",
      "Generation #30: species = 1, champion_fitness = 15.327888, avg_generation_fitness = 8.922881\n",
      "Generation #31: species = 1, champion_fitness = 15.327888, avg_generation_fitness = 9.022477\n",
      "Generation #32: species = 1, champion_fitness = 15.327888, avg_generation_fitness = 8.225051\n",
      "Generation #33: species = 1, champion_fitness = 15.327888, avg_generation_fitness = 7.971690\n",
      "Generation #34: species = 1, champion_fitness = 15.327888, avg_generation_fitness = 8.448050\n",
      "Generation #35: species = 3, champion_fitness = 15.327888, avg_generation_fitness = 8.272138\n",
      "Generation #36: species = 3, champion_fitness = 15.327888, avg_generation_fitness = 8.626259\n",
      "Generation #37: species = 3, champion_fitness = 15.327888, avg_generation_fitness = 7.814653\n",
      "Generation #38: species = 4, champion_fitness = 15.327888, avg_generation_fitness = 8.152610\n",
      "Generation #39: species = 4, champion_fitness = 15.327888, avg_generation_fitness = 7.624957\n",
      "Generation #40: species = 5, champion_fitness = 15.327888, avg_generation_fitness = 7.034333\n",
      "Generation #41: species = 5, champion_fitness = 15.327888, avg_generation_fitness = 6.676929\n",
      "Generation #42: species = 6, champion_fitness = 15.327888, avg_generation_fitness = 6.388826\n",
      "Generation #43: species = 7, champion_fitness = 15.327888, avg_generation_fitness = 7.887339\n",
      "Generation #44: species = 7, champion_fitness = 15.327888, avg_generation_fitness = 8.074968\n",
      "Generation #45: species = 8, champion_fitness = 15.327888, avg_generation_fitness = 7.586775\n",
      "Generation #46: species = 9, champion_fitness = 15.327888, avg_generation_fitness = 7.989804\n",
      "Generation #47: species = 11, champion_fitness = 15.327888, avg_generation_fitness = 8.244037\n",
      "Generation #48: species = 5, champion_fitness = 15.327888, avg_generation_fitness = 7.548654\n",
      "Generation #49: species = 5, champion_fitness = 15.327888, avg_generation_fitness = 7.398287\n",
      "Generation #50: species = 5, champion_fitness = 15.327888, avg_generation_fitness = 7.865114\n",
      "Generation #51: species = 5, champion_fitness = 15.327888, avg_generation_fitness = 7.872572\n",
      "Generation #52: species = 5, champion_fitness = 15.327888, avg_generation_fitness = 7.544421\n",
      "Generation #53: species = 5, champion_fitness = 15.327888, avg_generation_fitness = 8.069223\n",
      "Generation #54: species = 5, champion_fitness = 15.555895, avg_generation_fitness = 8.590385\n",
      "Generation #55: species = 6, champion_fitness = 15.555895, avg_generation_fitness = 7.614652\n",
      "Generation #56: species = 6, champion_fitness = 15.555895, avg_generation_fitness = 7.699681\n",
      "Generation #57: species = 6, champion_fitness = 15.555895, avg_generation_fitness = 7.890346\n",
      "Generation #58: species = 6, champion_fitness = 15.555895, avg_generation_fitness = 7.990337\n",
      "Generation #59: species = 7, champion_fitness = 15.555895, avg_generation_fitness = 7.709852\n",
      "Generation #60: species = 7, champion_fitness = 15.555895, avg_generation_fitness = 7.884895\n",
      "Generation #61: species = 7, champion_fitness = 15.555895, avg_generation_fitness = 7.801040\n",
      "Generation #62: species = 7, champion_fitness = 15.555895, avg_generation_fitness = 8.209632\n",
      "Generation #63: species = 8, champion_fitness = 15.555895, avg_generation_fitness = 8.146317\n",
      "Generation #64: species = 8, champion_fitness = 15.555895, avg_generation_fitness = 8.185063\n",
      "Generation #65: species = 8, champion_fitness = 15.555895, avg_generation_fitness = 7.175832\n",
      "Generation #66: species = 8, champion_fitness = 15.555895, avg_generation_fitness = 7.584698\n",
      "Generation #67: species = 8, champion_fitness = 15.559774, avg_generation_fitness = 7.760244\n",
      "Generation #68: species = 8, champion_fitness = 15.559774, avg_generation_fitness = 7.555643\n",
      "Generation #69: species = 8, champion_fitness = 15.559774, avg_generation_fitness = 7.594350\n",
      "Generation #70: species = 8, champion_fitness = 15.559774, avg_generation_fitness = 8.256739\n",
      "Generation #71: species = 8, champion_fitness = 15.559774, avg_generation_fitness = 7.294767\n",
      "Generation #72: species = 9, champion_fitness = 15.559774, avg_generation_fitness = 7.912418\n",
      "Generation #73: species = 9, champion_fitness = 15.559774, avg_generation_fitness = 7.542048\n",
      "Generation #74: species = 10, champion_fitness = 15.599764, avg_generation_fitness = 7.903437\n",
      "Generation #75: species = 10, champion_fitness = 15.613850, avg_generation_fitness = 7.810864\n",
      "Generation #76: species = 10, champion_fitness = 15.613850, avg_generation_fitness = 7.581346\n",
      "Generation #77: species = 11, champion_fitness = 15.613850, avg_generation_fitness = 7.874981\n",
      "Generation #78: species = 4, champion_fitness = 15.613850, avg_generation_fitness = 7.900781\n",
      "Generation #79: species = 5, champion_fitness = 15.613850, avg_generation_fitness = 7.980989\n",
      "Generation #80: species = 5, champion_fitness = 15.613850, avg_generation_fitness = 7.662085\n",
      "Generation #81: species = 6, champion_fitness = 15.613850, avg_generation_fitness = 8.214907\n",
      "Generation #82: species = 6, champion_fitness = 15.613850, avg_generation_fitness = 8.179007\n",
      "Generation #83: species = 6, champion_fitness = 15.613850, avg_generation_fitness = 8.126998\n",
      "Generation #84: species = 7, champion_fitness = 15.812517, avg_generation_fitness = 7.888131\n",
      "Generation #85: species = 7, champion_fitness = 15.812517, avg_generation_fitness = 7.933332\n",
      "Generation #86: species = 7, champion_fitness = 15.812517, avg_generation_fitness = 8.559734\n",
      "Generation #87: species = 7, champion_fitness = 15.812517, avg_generation_fitness = 7.877465\n",
      "Generation #88: species = 7, champion_fitness = 15.812517, avg_generation_fitness = 7.551630\n"
     ]
    },
    {
     "name": "stdout",
     "output_type": "stream",
     "text": [
      "Generation #89: species = 7, champion_fitness = 15.812517, avg_generation_fitness = 8.155740\n",
      "Generation #90: species = 7, champion_fitness = 15.812517, avg_generation_fitness = 7.525219\n",
      "Generation #91: species = 7, champion_fitness = 15.812517, avg_generation_fitness = 8.003571\n",
      "Generation #92: species = 7, champion_fitness = 15.812517, avg_generation_fitness = 8.411853\n",
      "Generation #93: species = 7, champion_fitness = 15.812517, avg_generation_fitness = 8.208890\n",
      "Generation #94: species = 7, champion_fitness = 15.812517, avg_generation_fitness = 7.952668\n",
      "Generation #95: species = 7, champion_fitness = 15.812517, avg_generation_fitness = 7.553909\n",
      "Generation #96: species = 7, champion_fitness = 15.812517, avg_generation_fitness = 7.737228\n",
      "Generation #97: species = 8, champion_fitness = 15.812517, avg_generation_fitness = 8.109673\n",
      "Generation #98: species = 8, champion_fitness = 15.812517, avg_generation_fitness = 7.453962\n",
      "Generation #99: species = 8, champion_fitness = 15.812517, avg_generation_fitness = 8.010621\n"
     ]
    }
   ],
   "source": [
    "# Define input sets to fit with fitness function\n",
    "xor_eval = [[0, 0], [0, 1], [1, 0], [1, 1]]\n",
    "\n",
    "# Run training\n",
    "evolution.set_multi_input(xor_eval)\n",
    "evolution.run()"
   ]
  },
  {
   "cell_type": "code",
   "execution_count": 12,
   "metadata": {},
   "outputs": [
    {
     "data": {
      "image/png": "[encoded data removed]",
      "text/plain": [
       "<Figure size 720x432 with 1 Axes>"
      ]
     },
     "metadata": {
      "needs_background": "light"
     },
     "output_type": "display_data"
    }
   ],
   "source": [
    "generations = np.linspace(0, 99, 100)\n",
    "\n",
    "fig, ax = plt.subplots(figsize=(10, 6))\n",
    "\n",
    "ax.plot(generations, evolution.historical_avg_fitness, label='Average fitness')\n",
    "ax.plot(generations, evolution.historical_best_fitness, label='Best fitness') # primer gráfico (primera sub-figura)\n",
    "ax.set_ylabel('Fitness')\n",
    "ax.set_xlabel('Generations')\n",
    "ax.set_ylim(0, 18)\n",
    "leg = ax.legend();"
   ]
  }
 ],
 "metadata": {
  "kernelspec": {
   "display_name": "Python 3",
   "language": "python",
   "name": "python3"
  },
  "language_info": {
   "codemirror_mode": {
    "name": "ipython",
    "version": 3
   },
   "file_extension": ".py",
   "mimetype": "text/x-python",
   "name": "python",
   "nbconvert_exporter": "python",
   "pygments_lexer": "ipython3",
   "version": "3.7.3"
  }
 },
 "nbformat": 4,
 "nbformat_minor": 4
}
