{
 "cells": [
  {
   "cell_type": "code",
   "execution_count": 4,
   "metadata": {},
   "outputs": [
    {
     "name": "stderr",
     "output_type": "stream",
     "text": [
      "C:\\Users\\pablo\\AppData\\Roaming\\Python\\Python37\\site-packages\\ipykernel_launcher.py:56: DeprecationWarning: object of type <class 'float'> cannot be safely interpreted as an integer.\n"
     ]
    }
   ],
   "source": [
    "from hyperneat.spatial_node import SpatialNode, SpatialNodeType\n",
    "from hyperneat.substrate import Substrate\n",
    "from hyperneat.evolution import Hyperneat\n",
    "\n",
    "from neat.genes import ConnectionGene, NodeGene, NodeType\n",
    "from neat.genome import Genome\n",
    "from neat.activation_functions import ActivationFunction\n",
    "from neat.neural_network import NeuralNetwork\n",
    "\n",
    "import numpy as np\n",
    "import matplotlib.pyplot as plt\n",
    "import os\n",
    "import sys\n",
    "\n",
    "# Genome\n",
    "genome = Genome(num_layers=15, weights_range=[-3.0, 3.0])\n",
    "genome.create_genome_by_size(8, 3)\n",
    "net = genome.build_phenotype()\n",
    "\n",
    "# Substrate setting\n",
    "# Init substrate set\n",
    "substrate_set = []\n",
    "for i in range(2):\n",
    "\ts = Substrate()\n",
    "\ts.activation_function = ActivationFunction().get('TANH')\n",
    "\n",
    "\t# Must create new objects or deep copies\n",
    "\ts.input_nodes = [SpatialNode(0, SpatialNodeType.INPUT, [0.0, -0.5], ActivationFunction().get('TANH'), 0)]\n",
    "\ts.output_nodes = [SpatialNode(1, SpatialNodeType.OUTPUT, [-0.5, 0.5], ActivationFunction().get('TANH'), 2),\n",
    "\t\t\t\t\t  SpatialNode(2, SpatialNodeType.OUTPUT, [0.5, 0.5], ActivationFunction().get('TANH'), 2)]\n",
    "\ts.hidden_nodes = [SpatialNode(3, SpatialNodeType.HIDDEN, [-0.5, 0.0], ActivationFunction().get('TANH'), 1),\n",
    "\t\t\t\t\t  SpatialNode(4, SpatialNodeType.HIDDEN, [0.5, 0.0], ActivationFunction().get('TANH'), 1)]\n",
    "\n",
    "\ts.input_count = 1\n",
    "\ts.output_count = 2\n",
    "\ts.hidden_count = 2\n",
    "\n",
    "\ts.extend_nodes_list()\n",
    "\tsubstrate_set.append(s)\n",
    "\n",
    "substrate_set[0].coordinates = (-0.5, 0.5)\n",
    "substrate_set[1].coordinates = (0.5, 0.5)\n",
    "\n",
    "intra_substrate_conn = [[0, 1], [0, 2], [0, 3], [0, 4], [3, 1], [3, 2], [3, 4], [4, 1], [4, 2], [4, 3]]\n",
    "inter_substrate_conn = [[0, 4, 1, 3], [1, 3, 0, 4]]\n",
    "\n",
    "ea = Hyperneat()\n",
    "ea.connection_threshold = 0.05\n",
    "ea.max_connection_weight = 0.5\n",
    "ea.max_bias = 0.06\n",
    "ea.max_delay = 0.2\n",
    "\n",
    "net = ea.build_modular_substrate(genome, substrate_set, intra_substrate_conn, inter_substrate_conn)\n",
    "net.reset_values()\n",
    "\n",
    "time = np.linspace(0, 20, 20 / 0.05)\n",
    "signal_1 = np.sin(time)\n",
    "signal_2 = np.cos(time)"
   ]
  },
  {
   "cell_type": "code",
   "execution_count": 5,
   "metadata": {},
   "outputs": [],
   "source": [
    "output_signal = np.zeros([4, time.shape[0]])\n",
    "out_id = net.out_neurons\n",
    "\n",
    "for t, _ in enumerate(time):\n",
    "    net.input([signal_1[t], signal_2[t]])\n",
    "    net.activate_net(0.05)\n",
    "    for o, oid in enumerate(out_id):\n",
    "        output_signal[o, t] = net.neurons[oid].output"
   ]
  },
  {
   "cell_type": "code",
   "execution_count": 6,
   "metadata": {},
   "outputs": [
    {
     "data": {
      "image/png": "[encoded data removed]",
      "text/plain": [
       "<Figure size 432x288 with 4 Axes>"
      ]
     },
     "metadata": {
      "needs_background": "light"
     },
     "output_type": "display_data"
    }
   ],
   "source": [
    "fig, ax = plt.subplots(2, 2)\n",
    "ax[0, 0].plot(output_signal[0])\n",
    "ax[0, 1].plot(output_signal[1])\n",
    "ax[1, 0].plot(output_signal[2])\n",
    "ax[1, 1].plot(output_signal[3])\n",
    "plt.tight_layout()"
   ]
  },
  {
   "cell_type": "code",
   "execution_count": 13,
   "metadata": {},
   "outputs": [
    {
     "data": {
      "text/plain": [
       "120"
      ]
     },
     "execution_count": 13,
     "metadata": {},
     "output_type": "execute_result"
    }
   ],
   "source": [
    "np.linspace(0, 1, int(6 / 0.05), endpoint=False).shape[0]"
   ]
  },
  {
   "cell_type": "code",
   "execution_count": 29,
   "metadata": {},
   "outputs": [
    {
     "data": {
      "text/plain": [
       "[[0, 1],\n",
       " [0, 2],\n",
       " [0, 3],\n",
       " [0, 4],\n",
       " [3, 1],\n",
       " [3, 2],\n",
       " [3, 4],\n",
       " [4, 1],\n",
       " [4, 2],\n",
       " [4, 3],\n",
       " [0, 1],\n",
       " [0, 2],\n",
       " [0, 3],\n",
       " [0, 4],\n",
       " [3, 1],\n",
       " [3, 2],\n",
       " [3, 4],\n",
       " [4, 1],\n",
       " [4, 2],\n",
       " [4, 3],\n",
       " [0, 1],\n",
       " [0, 2],\n",
       " [0, 3],\n",
       " [0, 4],\n",
       " [3, 1],\n",
       " [3, 2],\n",
       " [3, 4],\n",
       " [4, 1],\n",
       " [4, 2],\n",
       " [4, 3],\n",
       " [0, 1],\n",
       " [0, 2],\n",
       " [0, 3],\n",
       " [0, 4],\n",
       " [3, 1],\n",
       " [3, 2],\n",
       " [3, 4],\n",
       " [4, 1],\n",
       " [4, 2],\n",
       " [4, 3]]"
      ]
     },
     "execution_count": 29,
     "metadata": {},
     "output_type": "execute_result"
    }
   ],
   "source": [
    "inter_substrate_conn = [[0, 1], [0, 2], [0, 3], [0, 4], [3, 1], [3, 2], [3, 4], [4, 1], [4, 2], [4, 3]]\n",
    "inter_substrate_conn = inter_substrate_conn * 4, [[1, 0], [2, 0], [3, 0], [4, 0]]\n",
    "inter_substrate_conn[0]"
   ]
  },
  {
   "cell_type": "code",
   "execution_count": 40,
   "metadata": {},
   "outputs": [
    {
     "data": {
      "text/plain": [
       "[[[0, 1],\n",
       "  [0, 2],\n",
       "  [0, 3],\n",
       "  [0, 4],\n",
       "  [3, 1],\n",
       "  [3, 2],\n",
       "  [3, 4],\n",
       "  [4, 1],\n",
       "  [4, 2],\n",
       "  [4, 3]],\n",
       " [[0, 1],\n",
       "  [0, 2],\n",
       "  [0, 3],\n",
       "  [0, 4],\n",
       "  [3, 1],\n",
       "  [3, 2],\n",
       "  [3, 4],\n",
       "  [4, 1],\n",
       "  [4, 2],\n",
       "  [4, 3]],\n",
       " [[0, 1],\n",
       "  [0, 2],\n",
       "  [0, 3],\n",
       "  [0, 4],\n",
       "  [3, 1],\n",
       "  [3, 2],\n",
       "  [3, 4],\n",
       "  [4, 1],\n",
       "  [4, 2],\n",
       "  [4, 3]],\n",
       " [[0, 1],\n",
       "  [0, 2],\n",
       "  [0, 3],\n",
       "  [0, 4],\n",
       "  [3, 1],\n",
       "  [3, 2],\n",
       "  [3, 4],\n",
       "  [4, 1],\n",
       "  [4, 2],\n",
       "  [4, 3]],\n",
       " [[1, 0], [2, 0], [3, 0], [4, 0]]]"
      ]
     },
     "execution_count": 40,
     "metadata": {},
     "output_type": "execute_result"
    }
   ],
   "source": [
    "arr = []\n",
    "for _ in range(4):\n",
    "    arr.append(inter_substrate_conn)\n",
    "arr.append([[1, 0], [2, 0], [3, 0], [4, 0]])\n",
    "arr"
   ]
  },
  {
   "cell_type": "code",
   "execution_count": 44,
   "metadata": {},
   "outputs": [
    {
     "name": "stdout",
     "output_type": "stream",
     "text": [
      "[[0, 1], [0, 2], [0, 3], [0, 4], [3, 1], [3, 2], [3, 4], [4, 1], [4, 2], [4, 3]]\n",
      "[[0, 1], [0, 2], [0, 3], [0, 4], [3, 1], [3, 2], [3, 4], [4, 1], [4, 2], [4, 3]]\n",
      "[[0, 1], [0, 2], [0, 3], [0, 4], [3, 1], [3, 2], [3, 4], [4, 1], [4, 2], [4, 3]]\n",
      "[[0, 1], [0, 2], [0, 3], [0, 4], [3, 1], [3, 2], [3, 4], [4, 1], [4, 2], [4, 3]]\n",
      "[[1, 0], [2, 0], [3, 0], [4, 0]]\n"
     ]
    }
   ],
   "source": [
    "for item in arr[0]:\n",
    "    print(item)"
   ]
  },
  {
   "cell_type": "code",
   "execution_count": null,
   "metadata": {},
   "outputs": [],
   "source": []
  }
 ],
 "metadata": {
  "kernelspec": {
   "display_name": "Python 3",
   "language": "python",
   "name": "python3"
  },
  "language_info": {
   "codemirror_mode": {
    "name": "ipython",
    "version": 3
   },
   "file_extension": ".py",
   "mimetype": "text/x-python",
   "name": "python",
   "nbconvert_exporter": "python",
   "pygments_lexer": "ipython3",
   "version": "3.7.3"
  }
 },
 "nbformat": 4,
 "nbformat_minor": 2
}
