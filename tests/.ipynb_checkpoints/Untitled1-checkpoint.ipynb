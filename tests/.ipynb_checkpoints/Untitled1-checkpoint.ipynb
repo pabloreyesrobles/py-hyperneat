{
 "cells": [
  {
   "cell_type": "code",
   "execution_count": 1,
   "metadata": {},
   "outputs": [],
   "source": [
    "from hyperneat.spatial_node import SpatialNode, SpatialNodeType\n",
    "from hyperneat.substrate import Substrate\n",
    "from hyperneat.evolution import Hyperneat\n",
    "\n",
    "from neat.genes import ConnectionGene, NodeGene, NodeType\n",
    "from neat.genome import Genome\n",
    "from neat.activation_functions import ActivationFunction\n",
    "from neat.neural_network import NeuralNetwork\n",
    "\n",
    "import numpy as np\n",
    "import matplotlib.pyplot as plt\n",
    "import os\n",
    "import sys\n",
    "\n",
    "# Genome\n",
    "genome = Genome(num_layers=15, weights_range=[-3.0, 3.0])\n",
    "genome.create_genome_by_size(8, 3)\n",
    "net = genome.build_phenotype()\n",
    "\n",
    "# Substrate setting\n",
    "# Init substrate set\n",
    "substrate_set = []\n",
    "for i in range(2):\n",
    "\ts = Substrate()\n",
    "\ts.activation_function = ActivationFunction().get('TANH')\n",
    "\n",
    "\t# Must create new objects or deep copies\n",
    "\ts.input_nodes = [SpatialNode(0, SpatialNodeType.INPUT, [0.0, -0.5], ActivationFunction().get('TANH'), 0)]\n",
    "\ts.output_nodes = [SpatialNode(1, SpatialNodeType.OUTPUT, [-0.5, 0.5], ActivationFunction().get('TANH'), 2),\n",
    "\t\t\t\t\t  SpatialNode(2, SpatialNodeType.OUTPUT, [0.5, 0.5], ActivationFunction().get('TANH'), 2)]\n",
    "\ts.hidden_nodes = [SpatialNode(3, SpatialNodeType.HIDDEN, [-0.5, 0.0], ActivationFunction().get('TANH'), 1),\n",
    "\t\t\t\t\t  SpatialNode(4, SpatialNodeType.HIDDEN, [0.5, 0.0], ActivationFunction().get('TANH'), 1)]\n",
    "\n",
    "\ts.input_count = 1\n",
    "\ts.output_count = 2\n",
    "\ts.hidden_count = 2\n",
    "\n",
    "\ts.extend_nodes_list()\n",
    "\tsubstrate_set.append(s)\n",
    "\n",
    "substrate_set[0].coordinates = (-0.5, 0.5)\n",
    "substrate_set[1].coordinates = (0.5, 0.5)\n",
    "\n",
    "intra_substrate_conn = [[0, 1], [0, 2], [0, 3], [0, 4], [3, 1], [3, 2], [3, 4], [4, 1], [4, 2], [4, 3]]\n",
    "inter_substrate_conn = [[0, 4, 1, 3], [1, 3, 0, 4]]\n",
    "\n",
    "ea = Hyperneat()\n",
    "ea.connection_threshold = 0.05\n",
    "ea.max_connection_weight = 0.5\n",
    "ea.max_bias = 0.06\n",
    "ea.max_delay = 0.2\n",
    "\n",
    "net = ea.build_modular_substrate(genome, substrate_set, intra_substrate_conn, inter_substrate_conn)\n",
    "net.reset_values()\n",
    "\n",
    "time = np.linspace(0, 20, 20 / 0.05)\n",
    "signal_1 = np.sin(time)\n",
    "signal_2 = np.cos(time)"
   ]
  },
  {
   "cell_type": "code",
   "execution_count": 2,
   "metadata": {},
   "outputs": [
    {
     "ename": "NameError",
     "evalue": "name 'signal' is not defined",
     "output_type": "error",
     "traceback": [
      "\u001b[1;31m---------------------------------------------------------------------------\u001b[0m",
      "\u001b[1;31mNameError\u001b[0m                                 Traceback (most recent call last)",
      "\u001b[1;32m<ipython-input-2-78c236f893c4>\u001b[0m in \u001b[0;36m<module>\u001b[1;34m\u001b[0m\n\u001b[1;32m----> 1\u001b[1;33m \u001b[0moutput_signal\u001b[0m \u001b[1;33m=\u001b[0m \u001b[0mnp\u001b[0m\u001b[1;33m.\u001b[0m\u001b[0mzeros\u001b[0m\u001b[1;33m(\u001b[0m\u001b[1;33m[\u001b[0m\u001b[1;36m4\u001b[0m\u001b[1;33m,\u001b[0m \u001b[0msignal\u001b[0m\u001b[1;33m.\u001b[0m\u001b[0mshape\u001b[0m\u001b[1;33m[\u001b[0m\u001b[1;36m0\u001b[0m\u001b[1;33m]\u001b[0m\u001b[1;33m]\u001b[0m\u001b[1;33m)\u001b[0m\u001b[1;33m\u001b[0m\u001b[1;33m\u001b[0m\u001b[0m\n\u001b[0m\u001b[0;32m      2\u001b[0m \u001b[0mout_id\u001b[0m \u001b[1;33m=\u001b[0m \u001b[0mnet\u001b[0m\u001b[1;33m.\u001b[0m\u001b[0mout_neurons\u001b[0m\u001b[1;33m\u001b[0m\u001b[1;33m\u001b[0m\u001b[0m\n\u001b[0;32m      3\u001b[0m \u001b[1;33m\u001b[0m\u001b[0m\n\u001b[0;32m      4\u001b[0m \u001b[1;32mfor\u001b[0m \u001b[0mt\u001b[0m\u001b[1;33m,\u001b[0m \u001b[0m_\u001b[0m \u001b[1;32min\u001b[0m \u001b[0menumerate\u001b[0m\u001b[1;33m(\u001b[0m\u001b[0mtime\u001b[0m\u001b[1;33m)\u001b[0m\u001b[1;33m:\u001b[0m\u001b[1;33m\u001b[0m\u001b[1;33m\u001b[0m\u001b[0m\n\u001b[0;32m      5\u001b[0m     \u001b[0mnet\u001b[0m\u001b[1;33m.\u001b[0m\u001b[0minput\u001b[0m\u001b[1;33m(\u001b[0m\u001b[1;33m[\u001b[0m\u001b[0msignal_1\u001b[0m\u001b[1;33m[\u001b[0m\u001b[0mt\u001b[0m\u001b[1;33m]\u001b[0m\u001b[1;33m,\u001b[0m \u001b[0msignal_2\u001b[0m\u001b[1;33m[\u001b[0m\u001b[0mt\u001b[0m\u001b[1;33m]\u001b[0m\u001b[1;33m]\u001b[0m\u001b[1;33m)\u001b[0m\u001b[1;33m\u001b[0m\u001b[1;33m\u001b[0m\u001b[0m\n",
      "\u001b[1;31mNameError\u001b[0m: name 'signal' is not defined"
     ]
    }
   ],
   "source": [
    "output_signal = np.zeros([4, time.shape[0]])\n",
    "out_id = net.out_neurons\n",
    "\n",
    "for t, _ in enumerate(time):\n",
    "    net.input([signal_1[t], signal_2[t]])\n",
    "    net.activate_net(0.05)\n",
    "    for o, oid in enumerate(out_id):\n",
    "        output_signal[o, t] = net.neurons[oid].output"
   ]
  },
  {
   "cell_type": "code",
   "execution_count": null,
   "metadata": {},
   "outputs": [],
   "source": [
    "fig, ax = plt.subplots(2, 2)\n",
    "ax[0, 0].plot(output_signal[0])\n",
    "ax[0, 1].plot(output_signal[1])\n",
    "ax[1, 0].plot(output_signal[2])\n",
    "ax[1, 1].plot(output_signal[3])\n",
    "plt.tight_layout()"
   ]
  },
  {
   "cell_type": "code",
   "execution_count": 129,
   "metadata": {},
   "outputs": [
    {
     "ename": "AttributeError",
     "evalue": "'Neuron' object has no attribute 'max_output'",
     "output_type": "error",
     "traceback": [
      "\u001b[1;31m---------------------------------------------------------------------------\u001b[0m",
      "\u001b[1;31mAttributeError\u001b[0m                            Traceback (most recent call last)",
      "\u001b[1;32m<ipython-input-129-271339a829fa>\u001b[0m in \u001b[0;36m<module>\u001b[1;34m\u001b[0m\n\u001b[1;32m----> 1\u001b[1;33m \u001b[0mnet\u001b[0m\u001b[1;33m.\u001b[0m\u001b[0mneurons\u001b[0m\u001b[1;33m[\u001b[0m\u001b[0mnet\u001b[0m\u001b[1;33m.\u001b[0m\u001b[0mout_neurons\u001b[0m\u001b[1;33m[\u001b[0m\u001b[1;36m0\u001b[0m\u001b[1;33m]\u001b[0m\u001b[1;33m]\u001b[0m\u001b[1;33m.\u001b[0m\u001b[0mmax_output\u001b[0m\u001b[1;33m\u001b[0m\u001b[1;33m\u001b[0m\u001b[0m\n\u001b[0m",
      "\u001b[1;31mAttributeError\u001b[0m: 'Neuron' object has no attribute 'max_output'"
     ]
    }
   ],
   "source": [
    "net.neurons[net.out_neurons[0]].max_output"
   ]
  },
  {
   "cell_type": "code",
   "execution_count": null,
   "metadata": {},
   "outputs": [],
   "source": []
  }
 ],
 "metadata": {
  "kernelspec": {
   "display_name": "Python 3",
   "language": "python",
   "name": "python3"
  }
 },
 "nbformat": 4,
 "nbformat_minor": 2
}
