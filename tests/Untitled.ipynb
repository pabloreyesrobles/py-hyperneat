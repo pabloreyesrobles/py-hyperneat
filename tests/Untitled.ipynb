{
 "cells": [
  {
   "cell_type": "code",
   "execution_count": 1,
   "metadata": {},
   "outputs": [
    {
     "name": "stdout",
     "output_type": "stream",
     "text": [
      "Requirement already satisfied: py-hyperneat in /home/preyesr/anaconda3/lib/python3.7/site-packages (0.0.1)\r\n"
     ]
    }
   ],
   "source": [
    "!pip install py-hyperneat"
   ]
  },
  {
   "cell_type": "code",
   "execution_count": 11,
   "metadata": {},
   "outputs": [],
   "source": [
    "from neat.population import Population\n",
    "from neat.neural_network import NeuralNetwork\n",
    "from neat.genome import Genome, Phenotype\n",
    "from neat.genes import NodeGene, ConnectionGene, NodeType\n",
    "from neat.neat import Neat, TrainTask\n",
    "from neat.activation_functions import ActivationFunction\n",
    "\n",
    "import numpy as np\n",
    "import matplotlib.pyplot as plt\n",
    "import math"
   ]
  },
  {
   "cell_type": "code",
   "execution_count": 3,
   "metadata": {},
   "outputs": [],
   "source": [
    "# Select tanh function to initialize activations\n",
    "tanh_function = ActivationFunction().functions['TANH']\n",
    "\n",
    "# 10 layers\n",
    "num_layers = 10\n",
    "\n",
    "# Node genes\n",
    "input_node_0 = NodeGene(0, NodeType.INPUT, tanh_function, 0)\n",
    "input_node_1 = NodeGene(1, NodeType.INPUT, tanh_function, 0)\n",
    "output_node = NodeGene(2, NodeType.OUTPUT, tanh_function, num_layers - 1)\n",
    "\n",
    "nodes = [input_node_0, input_node_1, output_node]"
   ]
  },
  {
   "cell_type": "code",
   "execution_count": 4,
   "metadata": {},
   "outputs": [],
   "source": [
    "# Connection genes: innovation, in node, out node, weight, enable?, in node layer, out node layer\n",
    "connection_0 = ConnectionGene(0, input_node_0.gene_id, output_node.gene_id, 0.1, True, input_node_0.layer, output_node.layer)\n",
    "connection_1 = ConnectionGene(1, input_node_1.gene_id, output_node.gene_id, 0.2, True, input_node_1.layer, output_node.layer)\n",
    "\n",
    "connections = [connection_0, connection_1]"
   ]
  },
  {
   "cell_type": "code",
   "execution_count": 5,
   "metadata": {},
   "outputs": [],
   "source": [
    "# Create seed genome, specify connections weight range\n",
    "weights_range = (-8.0, 8.0)\n",
    "genome = Genome(weights_range)\n",
    "\n",
    "# Assemble genome from nodes and connections info. \n",
    "# Need to specify the type of phenotype to construct and number of layers\n",
    "genome.create_genome_from_genes(nodes, connections, Phenotype.LAYERED_NETWORK, num_layers)"
   ]
  },
  {
   "cell_type": "code",
   "execution_count": 6,
   "metadata": {},
   "outputs": [],
   "source": [
    "# Create new population\n",
    "pop = Population()\n",
    "\n",
    "# Set hyperparameters of evolution\n",
    "pop.params.population_max = 100\n",
    "pop.params.distance_coeff_1 = 0.6\n",
    "pop.params.distance_coeff_2 = 0.6\n",
    "pop.params.distance_coeff_3 = 0.06\n",
    "pop.params.distance_threshold = 9.0 #Adjusted while training\n",
    "pop.params.small_genome_coeff = 8\n",
    "pop.params.no_crossover_offspring = 0.85\n",
    "\n",
    "pop.params.survival_selection = True\n",
    "pop.params.allow_clones = True\n",
    "pop.params.survival_threshold = 0.4\n",
    "pop.params.elite_offspring_param = 0.1\n",
    "\n",
    "pop.params.min_species = 4\n",
    "pop.params.max_species = 10\n",
    "\n",
    "# Set probabilities of interspecies mating and mutations\n",
    "# Interspecies probability of mate\n",
    "pop.prob.interspecies_mating = 0.2\n",
    "\n",
    "# Small organisms mutation probabilities\n",
    "pop.prob.sp_new_node = 0.001\n",
    "pop.prob.sp_new_connection = 0.002\n",
    "\n",
    "# Large organisms mutation probabilities\n",
    "pop.prob.lp_new_node = 0.0003\n",
    "pop.prob.lp_new_connection = 0.0004\n",
    "\n",
    "# Mutation weights and activation probabilities\n",
    "pop.prob.mutation_weight = 0.1\n",
    "pop.prob.mutate_activation = 0.05\n",
    "\n",
    "# Create population of organisms from the seed genome\n",
    "pop.start_population(genome)"
   ]
  },
  {
   "cell_type": "code",
   "execution_count": 7,
   "metadata": {},
   "outputs": [],
   "source": [
    "# Define a fitness function.\n",
    "# Current function intend to solve XOR problem, given the four possible inputs\n",
    "def fitness(input_data, net):\n",
    "    error = 0.0\n",
    "    outputs = []\n",
    "\n",
    "    logic = input_data[0]\n",
    "    net.reset_values()\n",
    "    net.input(logic)\n",
    "    net.activate_net()\n",
    "    error += math.fabs(net.output()[0])\n",
    "    outputs.append(net.output()[0])\n",
    "\n",
    "    logic = input_data[1]\n",
    "    net.reset_values()\n",
    "    net.input(logic)\n",
    "    net.activate_net()\n",
    "    error += math.fabs(1 - net.output()[0])\n",
    "    outputs.append(net.output()[0])\n",
    "\n",
    "    logic = input_data[2]\n",
    "    net.reset_values()\n",
    "    net.input(logic)\n",
    "    net.activate_net()\n",
    "    error += math.fabs(1 - net.output()[0])\n",
    "    outputs.append(net.output()[0])\n",
    "\n",
    "    logic = input_data[3]\n",
    "    net.input(logic)\n",
    "    net.activate_net()\n",
    "    error += math.fabs(net.output()[0])\n",
    "    outputs.append(net.output()[0])\n",
    "\n",
    "    return math.pow(4 - error, 2)"
   ]
  },
  {
   "cell_type": "code",
   "execution_count": 8,
   "metadata": {},
   "outputs": [],
   "source": [
    "# Create an instance of Neat algorithm, 100 generations\n",
    "num_generations = 100\n",
    "evolution = Neat(fitness_eval=fitness, train_task=TrainTask.PREDICTION, max_generation=num_generations)\n",
    "\n",
    "# Set population to evolutionary algorithm. Limit activation functions to tanh for this example\n",
    "evolution.pop = pop\n",
    "evolution.pop.activation_set.use_only_tanh()"
   ]
  },
  {
   "cell_type": "code",
   "execution_count": 12,
   "metadata": {
    "scrolled": true
   },
   "outputs": [
    {
     "name": "stdout",
     "output_type": "stream",
     "text": [
      "Iteration #0: species = 6, champion_fitness = 15.974387, avg_generation_fitness = 8.404953\n",
      "Iteration #1: species = 5, champion_fitness = 15.766767, avg_generation_fitness = 8.766109\n",
      "Iteration #2: species = 8, champion_fitness = 15.902283, avg_generation_fitness = 7.666154\n",
      "Iteration #3: species = 9, champion_fitness = 15.415691, avg_generation_fitness = 8.327984\n",
      "Iteration #4: species = 5, champion_fitness = 15.964301, avg_generation_fitness = 7.391095\n"
     ]
    }
   ],
   "source": [
    "# Define input sets to fit with fitness function\n",
    "xor_eval = [[0, 0], [0, 1], [1, 0], [1, 1]]\n",
    "\n",
    "# Run training\n",
    "evolution.set_multi_input(xor_eval)\n",
    "avg, best = evolution.run_multiple_trainings(5)"
   ]
  },
  {
   "cell_type": "code",
   "execution_count": 13,
   "metadata": {},
   "outputs": [
    {
     "data": {
      "image/png": "[encoded data removed]",
      "text/plain": [
       "<Figure size 720x432 with 1 Axes>"
      ]
     },
     "metadata": {
      "needs_background": "light"
     },
     "output_type": "display_data"
    }
   ],
   "source": [
    "generations = np.linspace(0, 99, 100)\n",
    "\n",
    "fig, ax = plt.subplots(figsize=(10, 6))\n",
    "\n",
    "ax.plot(generations, avg, label='Average fitness')\n",
    "ax.plot(generations, best, label='Best fitness') # primer gráfico (primera sub-figura)\n",
    "ax.set_ylabel('Fitness')\n",
    "ax.set_xlabel('Generations')\n",
    "ax.set_ylim(0, 18)\n",
    "leg = ax.legend();"
   ]
  },
  {
   "cell_type": "code",
   "execution_count": 15,
   "metadata": {},
   "outputs": [
    {
     "name": "stdout",
     "output_type": "stream",
     "text": [
      "Iteration #0: species = 4, champion_fitness = 16.000000, avg_generation_fitness = 8.447862\n",
      "Iteration #1: species = 7, champion_fitness = 16.000000, avg_generation_fitness = 8.665678\n",
      "Iteration #2: species = 8, champion_fitness = 16.000000, avg_generation_fitness = 9.097718\n",
      "Iteration #3: species = 6, champion_fitness = 16.000000, avg_generation_fitness = 8.597465\n",
      "Iteration #4: species = 9, champion_fitness = 16.000000, avg_generation_fitness = 8.426233\n"
     ]
    }
   ],
   "source": [
    "# Let's change activation functions set\n",
    "evolution.pop.activation_set = ActivationFunction()\n",
    "evolution.pop.activation_set.set_atemporal_set()\n",
    "evolution.pop.activation_set.unset_lin_group()\n",
    "\n",
    "# Run training\n",
    "evolution.pop.restart_population()\n",
    "avg, best = evolution.run_multiple_trainings(5)"
   ]
  },
  {
   "cell_type": "code",
   "execution_count": 16,
   "metadata": {},
   "outputs": [
    {
     "data": {
      "image/png": "[encoded data removed]",
      "text/plain": [
       "<Figure size 720x432 with 1 Axes>"
      ]
     },
     "metadata": {
      "needs_background": "light"
     },
     "output_type": "display_data"
    }
   ],
   "source": [
    "generations = np.linspace(0, 99, 100)\n",
    "\n",
    "fig, ax = plt.subplots(figsize=(10, 6))\n",
    "\n",
    "ax.plot(generations, avg, label='Average fitness')\n",
    "ax.plot(generations, best, label='Best fitness') # primer gráfico (primera sub-figura)\n",
    "ax.set_ylabel('Fitness')\n",
    "ax.set_xlabel('Generations')\n",
    "ax.set_ylim(0, 18)\n",
    "leg = ax.legend();"
   ]
  },
  {
   "cell_type": "code",
   "execution_count": null,
   "metadata": {},
   "outputs": [],
   "source": []
  }
 ],
 "metadata": {
  "kernelspec": {
   "display_name": "Python 3",
   "language": "python",
   "name": "python3"
  },
  "language_info": {
   "codemirror_mode": {
    "name": "ipython",
    "version": 3
   },
   "file_extension": ".py",
   "mimetype": "text/x-python",
   "name": "python",
   "nbconvert_exporter": "python",
   "pygments_lexer": "ipython3",
   "version": "3.7.8"
  }
 },
 "nbformat": 4,
 "nbformat_minor": 4
}
